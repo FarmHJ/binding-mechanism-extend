{
 "cells": [
  {
   "cell_type": "code",
   "execution_count": 7,
   "id": "499852ee",
   "metadata": {},
   "outputs": [],
   "source": [
    "import plotly.graph_objects as go\n",
    "from plotly.subplots import make_subplots\n",
    "import numpy as np\n",
    "import os\n",
    "import pandas as pd\n",
    "import sys\n",
    "\n",
    "import modelling"
   ]
  },
  {
   "cell_type": "code",
   "execution_count": 12,
   "id": "a450a9a9",
   "metadata": {
    "scrolled": false
   },
   "outputs": [
    {
     "name": "stderr",
     "output_type": "stream",
     "text": [
      "/tmp/ipykernel_6524/1103604200.py:61: FutureWarning:\n",
      "\n",
      "In a future version, the Index constructor will not infer numeric dtypes when passed object-dtype sequences (matching Series behavior)\n",
      "\n"
     ]
    },
    {
     "name": "stdout",
     "output_type": "stream",
     "text": [
      "1 1\n"
     ]
    },
    {
     "name": "stderr",
     "output_type": "stream",
     "text": [
      "/tmp/ipykernel_6524/1103604200.py:61: FutureWarning:\n",
      "\n",
      "In a future version, the Index constructor will not infer numeric dtypes when passed object-dtype sequences (matching Series behavior)\n",
      "\n"
     ]
    },
    {
     "name": "stdout",
     "output_type": "stream",
     "text": [
      "1 1\n"
     ]
    },
    {
     "name": "stderr",
     "output_type": "stream",
     "text": [
      "/tmp/ipykernel_6524/1103604200.py:61: FutureWarning:\n",
      "\n",
      "In a future version, the Index constructor will not infer numeric dtypes when passed object-dtype sequences (matching Series behavior)\n",
      "\n"
     ]
    },
    {
     "name": "stdout",
     "output_type": "stream",
     "text": [
      "1 1\n"
     ]
    },
    {
     "name": "stderr",
     "output_type": "stream",
     "text": [
      "/tmp/ipykernel_6524/1103604200.py:61: FutureWarning:\n",
      "\n",
      "In a future version, the Index constructor will not infer numeric dtypes when passed object-dtype sequences (matching Series behavior)\n",
      "\n"
     ]
    },
    {
     "name": "stdout",
     "output_type": "stream",
     "text": [
      "1 1\n"
     ]
    },
    {
     "name": "stderr",
     "output_type": "stream",
     "text": [
      "/tmp/ipykernel_6524/1103604200.py:61: FutureWarning:\n",
      "\n",
      "In a future version, the Index constructor will not infer numeric dtypes when passed object-dtype sequences (matching Series behavior)\n",
      "\n"
     ]
    },
    {
     "name": "stdout",
     "output_type": "stream",
     "text": [
      "1 1\n"
     ]
    },
    {
     "name": "stderr",
     "output_type": "stream",
     "text": [
      "/tmp/ipykernel_6524/1103604200.py:61: FutureWarning:\n",
      "\n",
      "In a future version, the Index constructor will not infer numeric dtypes when passed object-dtype sequences (matching Series behavior)\n",
      "\n"
     ]
    },
    {
     "name": "stdout",
     "output_type": "stream",
     "text": [
      "1 1\n"
     ]
    },
    {
     "name": "stderr",
     "output_type": "stream",
     "text": [
      "/tmp/ipykernel_6524/1103604200.py:61: FutureWarning:\n",
      "\n",
      "In a future version, the Index constructor will not infer numeric dtypes when passed object-dtype sequences (matching Series behavior)\n",
      "\n"
     ]
    },
    {
     "name": "stdout",
     "output_type": "stream",
     "text": [
      "2 1\n"
     ]
    },
    {
     "name": "stderr",
     "output_type": "stream",
     "text": [
      "/tmp/ipykernel_6524/1103604200.py:61: FutureWarning:\n",
      "\n",
      "In a future version, the Index constructor will not infer numeric dtypes when passed object-dtype sequences (matching Series behavior)\n",
      "\n"
     ]
    },
    {
     "name": "stdout",
     "output_type": "stream",
     "text": [
      "2 1\n"
     ]
    },
    {
     "name": "stderr",
     "output_type": "stream",
     "text": [
      "/tmp/ipykernel_6524/1103604200.py:61: FutureWarning:\n",
      "\n",
      "In a future version, the Index constructor will not infer numeric dtypes when passed object-dtype sequences (matching Series behavior)\n",
      "\n"
     ]
    },
    {
     "name": "stdout",
     "output_type": "stream",
     "text": [
      "2 1\n"
     ]
    },
    {
     "name": "stderr",
     "output_type": "stream",
     "text": [
      "/tmp/ipykernel_6524/1103604200.py:61: FutureWarning:\n",
      "\n",
      "In a future version, the Index constructor will not infer numeric dtypes when passed object-dtype sequences (matching Series behavior)\n",
      "\n"
     ]
    },
    {
     "name": "stdout",
     "output_type": "stream",
     "text": [
      "2 1\n"
     ]
    },
    {
     "name": "stderr",
     "output_type": "stream",
     "text": [
      "/tmp/ipykernel_6524/1103604200.py:61: FutureWarning:\n",
      "\n",
      "In a future version, the Index constructor will not infer numeric dtypes when passed object-dtype sequences (matching Series behavior)\n",
      "\n"
     ]
    },
    {
     "name": "stdout",
     "output_type": "stream",
     "text": [
      "3 1\n"
     ]
    },
    {
     "name": "stderr",
     "output_type": "stream",
     "text": [
      "/tmp/ipykernel_6524/1103604200.py:61: FutureWarning:\n",
      "\n",
      "In a future version, the Index constructor will not infer numeric dtypes when passed object-dtype sequences (matching Series behavior)\n",
      "\n"
     ]
    },
    {
     "name": "stdout",
     "output_type": "stream",
     "text": [
      "3 1\n"
     ]
    },
    {
     "name": "stderr",
     "output_type": "stream",
     "text": [
      "/tmp/ipykernel_6524/1103604200.py:61: FutureWarning:\n",
      "\n",
      "In a future version, the Index constructor will not infer numeric dtypes when passed object-dtype sequences (matching Series behavior)\n",
      "\n"
     ]
    },
    {
     "name": "stdout",
     "output_type": "stream",
     "text": [
      "3 1\n"
     ]
    },
    {
     "name": "stderr",
     "output_type": "stream",
     "text": [
      "/tmp/ipykernel_6524/1103604200.py:61: FutureWarning:\n",
      "\n",
      "In a future version, the Index constructor will not infer numeric dtypes when passed object-dtype sequences (matching Series behavior)\n",
      "\n"
     ]
    },
    {
     "name": "stdout",
     "output_type": "stream",
     "text": [
      "3 1\n"
     ]
    },
    {
     "name": "stderr",
     "output_type": "stream",
     "text": [
      "/tmp/ipykernel_6524/1103604200.py:61: FutureWarning:\n",
      "\n",
      "In a future version, the Index constructor will not infer numeric dtypes when passed object-dtype sequences (matching Series behavior)\n",
      "\n"
     ]
    },
    {
     "name": "stdout",
     "output_type": "stream",
     "text": [
      "3 1\n"
     ]
    },
    {
     "name": "stderr",
     "output_type": "stream",
     "text": [
      "/tmp/ipykernel_6524/1103604200.py:61: FutureWarning:\n",
      "\n",
      "In a future version, the Index constructor will not infer numeric dtypes when passed object-dtype sequences (matching Series behavior)\n",
      "\n"
     ]
    },
    {
     "name": "stdout",
     "output_type": "stream",
     "text": [
      "4 1\n"
     ]
    },
    {
     "name": "stderr",
     "output_type": "stream",
     "text": [
      "/tmp/ipykernel_6524/1103604200.py:61: FutureWarning:\n",
      "\n",
      "In a future version, the Index constructor will not infer numeric dtypes when passed object-dtype sequences (matching Series behavior)\n",
      "\n"
     ]
    },
    {
     "name": "stdout",
     "output_type": "stream",
     "text": [
      "4 1\n"
     ]
    },
    {
     "name": "stderr",
     "output_type": "stream",
     "text": [
      "/tmp/ipykernel_6524/1103604200.py:61: FutureWarning:\n",
      "\n",
      "In a future version, the Index constructor will not infer numeric dtypes when passed object-dtype sequences (matching Series behavior)\n",
      "\n"
     ]
    },
    {
     "name": "stdout",
     "output_type": "stream",
     "text": [
      "4 1\n"
     ]
    },
    {
     "name": "stderr",
     "output_type": "stream",
     "text": [
      "/tmp/ipykernel_6524/1103604200.py:61: FutureWarning:\n",
      "\n",
      "In a future version, the Index constructor will not infer numeric dtypes when passed object-dtype sequences (matching Series behavior)\n",
      "\n"
     ]
    },
    {
     "name": "stdout",
     "output_type": "stream",
     "text": [
      "4 1\n"
     ]
    },
    {
     "name": "stderr",
     "output_type": "stream",
     "text": [
      "/tmp/ipykernel_6524/1103604200.py:61: FutureWarning:\n",
      "\n",
      "In a future version, the Index constructor will not infer numeric dtypes when passed object-dtype sequences (matching Series behavior)\n",
      "\n"
     ]
    },
    {
     "name": "stdout",
     "output_type": "stream",
     "text": [
      "4 1\n"
     ]
    },
    {
     "name": "stderr",
     "output_type": "stream",
     "text": [
      "/tmp/ipykernel_6524/1103604200.py:61: FutureWarning:\n",
      "\n",
      "In a future version, the Index constructor will not infer numeric dtypes when passed object-dtype sequences (matching Series behavior)\n",
      "\n"
     ]
    },
    {
     "name": "stdout",
     "output_type": "stream",
     "text": [
      "4 1\n"
     ]
    },
    {
     "name": "stderr",
     "output_type": "stream",
     "text": [
      "/tmp/ipykernel_6524/1103604200.py:61: FutureWarning:\n",
      "\n",
      "In a future version, the Index constructor will not infer numeric dtypes when passed object-dtype sequences (matching Series behavior)\n",
      "\n"
     ]
    },
    {
     "name": "stdout",
     "output_type": "stream",
     "text": [
      "1 1\n"
     ]
    },
    {
     "name": "stderr",
     "output_type": "stream",
     "text": [
      "/tmp/ipykernel_6524/1103604200.py:61: FutureWarning:\n",
      "\n",
      "In a future version, the Index constructor will not infer numeric dtypes when passed object-dtype sequences (matching Series behavior)\n",
      "\n"
     ]
    },
    {
     "name": "stdout",
     "output_type": "stream",
     "text": [
      "1 1\n"
     ]
    },
    {
     "name": "stderr",
     "output_type": "stream",
     "text": [
      "/tmp/ipykernel_6524/1103604200.py:61: FutureWarning:\n",
      "\n",
      "In a future version, the Index constructor will not infer numeric dtypes when passed object-dtype sequences (matching Series behavior)\n",
      "\n",
      "/tmp/ipykernel_6524/1103604200.py:61: FutureWarning:\n",
      "\n",
      "In a future version, the Index constructor will not infer numeric dtypes when passed object-dtype sequences (matching Series behavior)\n",
      "\n"
     ]
    },
    {
     "name": "stdout",
     "output_type": "stream",
     "text": [
      "1 1\n",
      "1 1\n"
     ]
    },
    {
     "ename": "ParserError",
     "evalue": "Error tokenizing data. C error: Calling read(nbytes) on source failed. Try engine='python'.",
     "output_type": "error",
     "traceback": [
      "\u001b[0;31m---------------------------------------------------------------------------\u001b[0m",
      "\u001b[0;31mParserError\u001b[0m                               Traceback (most recent call last)",
      "Cell \u001b[0;32mIn[12], line 46\u001b[0m\n\u001b[1;32m     42\u001b[0m cell_file_path \u001b[38;5;241m=\u001b[39m cell_list\u001b[38;5;241m.\u001b[39mloc[cell_list[\u001b[38;5;124m\"\u001b[39m\u001b[38;5;124mcells\u001b[39m\u001b[38;5;124m\"\u001b[39m] \u001b[38;5;241m==\u001b[39m cell][\n\u001b[1;32m     43\u001b[0m     \u001b[38;5;124m\"\u001b[39m\u001b[38;5;124mfile_path\u001b[39m\u001b[38;5;124m\"\u001b[39m]\u001b[38;5;241m.\u001b[39mvalues[\u001b[38;5;241m0\u001b[39m]\n\u001b[1;32m     44\u001b[0m drug_conc \u001b[38;5;241m=\u001b[39m cell_list\u001b[38;5;241m.\u001b[39mloc[cell_list[\u001b[38;5;124m\"\u001b[39m\u001b[38;5;124mcells\u001b[39m\u001b[38;5;124m\"\u001b[39m] \u001b[38;5;241m==\u001b[39m cell][\n\u001b[1;32m     45\u001b[0m     \u001b[38;5;124m\"\u001b[39m\u001b[38;5;124mdrug_concentration\u001b[39m\u001b[38;5;124m\"\u001b[39m]\u001b[38;5;241m.\u001b[39mvalues[\u001b[38;5;241m0\u001b[39m]\n\u001b[0;32m---> 46\u001b[0m data \u001b[38;5;241m=\u001b[39m \u001b[43mdataset\u001b[49m\u001b[38;5;241;43m.\u001b[39;49m\u001b[43mexp_data_read\u001b[49m\u001b[43m(\u001b[49m\u001b[43mcell_file_path\u001b[49m\u001b[43m)\u001b[49m\n\u001b[1;32m     48\u001b[0m \u001b[38;5;66;03m# get drug concentration info\u001b[39;00m\n\u001b[1;32m     49\u001b[0m test \u001b[38;5;241m=\u001b[39m detail_list\u001b[38;5;241m.\u001b[39mloc[[\u001b[38;5;124m\"\u001b[39m\u001b[38;5;124mParameter\u001b[39m\u001b[38;5;124m\"\u001b[39m, cell], :]\n",
      "File \u001b[0;32m/mnt/c/Users/user/Documents/PhD Study/binding-mechanism-extend/modelling/dataset_library.py:86\u001b[0m, in \u001b[0;36mDatasetLibrary.exp_data_read\u001b[0;34m(self, filepath)\u001b[0m\n\u001b[1;32m     81\u001b[0m \u001b[38;5;28;01mdef\u001b[39;00m \u001b[38;5;21mexp_data_read\u001b[39m(\u001b[38;5;28mself\u001b[39m, filepath):\n\u001b[1;32m     82\u001b[0m \u001b[38;5;250m    \u001b[39m\u001b[38;5;124;03m\"\"\"\u001b[39;00m\n\u001b[1;32m     83\u001b[0m \u001b[38;5;124;03m    Returns the dataframe of experimental data\u001b[39;00m\n\u001b[1;32m     84\u001b[0m \u001b[38;5;124;03m    of given file path\u001b[39;00m\n\u001b[1;32m     85\u001b[0m \u001b[38;5;124;03m    \"\"\"\u001b[39;00m\n\u001b[0;32m---> 86\u001b[0m     data \u001b[38;5;241m=\u001b[39m \u001b[43mpd\u001b[49m\u001b[38;5;241;43m.\u001b[39;49m\u001b[43mread_csv\u001b[49m\u001b[43m(\u001b[49m\u001b[43mfilepath\u001b[49m\u001b[43m,\u001b[49m\u001b[43m \u001b[49m\u001b[43mheader\u001b[49m\u001b[38;5;241;43m=\u001b[39;49m\u001b[38;5;241;43m2\u001b[39;49m\u001b[43m,\u001b[49m\u001b[43m \u001b[49m\u001b[43msep\u001b[49m\u001b[38;5;241;43m=\u001b[39;49m\u001b[38;5;124;43m'\u001b[39;49m\u001b[38;5;124;43m;\u001b[39;49m\u001b[38;5;124;43m'\u001b[39;49m\u001b[43m)\u001b[49m\n\u001b[1;32m     88\u001b[0m     \u001b[38;5;28;01mreturn\u001b[39;00m data\n",
      "File \u001b[0;32m/mnt/c/Users/user/Documents/PhD Study/binding-mechanism-extend/venv/lib/python3.8/site-packages/pandas/util/_decorators.py:211\u001b[0m, in \u001b[0;36mdeprecate_kwarg.<locals>._deprecate_kwarg.<locals>.wrapper\u001b[0;34m(*args, **kwargs)\u001b[0m\n\u001b[1;32m    209\u001b[0m     \u001b[38;5;28;01melse\u001b[39;00m:\n\u001b[1;32m    210\u001b[0m         kwargs[new_arg_name] \u001b[38;5;241m=\u001b[39m new_arg_value\n\u001b[0;32m--> 211\u001b[0m \u001b[38;5;28;01mreturn\u001b[39;00m \u001b[43mfunc\u001b[49m\u001b[43m(\u001b[49m\u001b[38;5;241;43m*\u001b[39;49m\u001b[43margs\u001b[49m\u001b[43m,\u001b[49m\u001b[43m \u001b[49m\u001b[38;5;241;43m*\u001b[39;49m\u001b[38;5;241;43m*\u001b[39;49m\u001b[43mkwargs\u001b[49m\u001b[43m)\u001b[49m\n",
      "File \u001b[0;32m/mnt/c/Users/user/Documents/PhD Study/binding-mechanism-extend/venv/lib/python3.8/site-packages/pandas/util/_decorators.py:331\u001b[0m, in \u001b[0;36mdeprecate_nonkeyword_arguments.<locals>.decorate.<locals>.wrapper\u001b[0;34m(*args, **kwargs)\u001b[0m\n\u001b[1;32m    325\u001b[0m \u001b[38;5;28;01mif\u001b[39;00m \u001b[38;5;28mlen\u001b[39m(args) \u001b[38;5;241m>\u001b[39m num_allow_args:\n\u001b[1;32m    326\u001b[0m     warnings\u001b[38;5;241m.\u001b[39mwarn(\n\u001b[1;32m    327\u001b[0m         msg\u001b[38;5;241m.\u001b[39mformat(arguments\u001b[38;5;241m=\u001b[39m_format_argument_list(allow_args)),\n\u001b[1;32m    328\u001b[0m         \u001b[38;5;167;01mFutureWarning\u001b[39;00m,\n\u001b[1;32m    329\u001b[0m         stacklevel\u001b[38;5;241m=\u001b[39mfind_stack_level(),\n\u001b[1;32m    330\u001b[0m     )\n\u001b[0;32m--> 331\u001b[0m \u001b[38;5;28;01mreturn\u001b[39;00m \u001b[43mfunc\u001b[49m\u001b[43m(\u001b[49m\u001b[38;5;241;43m*\u001b[39;49m\u001b[43margs\u001b[49m\u001b[43m,\u001b[49m\u001b[43m \u001b[49m\u001b[38;5;241;43m*\u001b[39;49m\u001b[38;5;241;43m*\u001b[39;49m\u001b[43mkwargs\u001b[49m\u001b[43m)\u001b[49m\n",
      "File \u001b[0;32m/mnt/c/Users/user/Documents/PhD Study/binding-mechanism-extend/venv/lib/python3.8/site-packages/pandas/io/parsers/readers.py:950\u001b[0m, in \u001b[0;36mread_csv\u001b[0;34m(filepath_or_buffer, sep, delimiter, header, names, index_col, usecols, squeeze, prefix, mangle_dupe_cols, dtype, engine, converters, true_values, false_values, skipinitialspace, skiprows, skipfooter, nrows, na_values, keep_default_na, na_filter, verbose, skip_blank_lines, parse_dates, infer_datetime_format, keep_date_col, date_parser, dayfirst, cache_dates, iterator, chunksize, compression, thousands, decimal, lineterminator, quotechar, quoting, doublequote, escapechar, comment, encoding, encoding_errors, dialect, error_bad_lines, warn_bad_lines, on_bad_lines, delim_whitespace, low_memory, memory_map, float_precision, storage_options)\u001b[0m\n\u001b[1;32m    935\u001b[0m kwds_defaults \u001b[38;5;241m=\u001b[39m _refine_defaults_read(\n\u001b[1;32m    936\u001b[0m     dialect,\n\u001b[1;32m    937\u001b[0m     delimiter,\n\u001b[0;32m   (...)\u001b[0m\n\u001b[1;32m    946\u001b[0m     defaults\u001b[38;5;241m=\u001b[39m{\u001b[38;5;124m\"\u001b[39m\u001b[38;5;124mdelimiter\u001b[39m\u001b[38;5;124m\"\u001b[39m: \u001b[38;5;124m\"\u001b[39m\u001b[38;5;124m,\u001b[39m\u001b[38;5;124m\"\u001b[39m},\n\u001b[1;32m    947\u001b[0m )\n\u001b[1;32m    948\u001b[0m kwds\u001b[38;5;241m.\u001b[39mupdate(kwds_defaults)\n\u001b[0;32m--> 950\u001b[0m \u001b[38;5;28;01mreturn\u001b[39;00m \u001b[43m_read\u001b[49m\u001b[43m(\u001b[49m\u001b[43mfilepath_or_buffer\u001b[49m\u001b[43m,\u001b[49m\u001b[43m \u001b[49m\u001b[43mkwds\u001b[49m\u001b[43m)\u001b[49m\n",
      "File \u001b[0;32m/mnt/c/Users/user/Documents/PhD Study/binding-mechanism-extend/venv/lib/python3.8/site-packages/pandas/io/parsers/readers.py:611\u001b[0m, in \u001b[0;36m_read\u001b[0;34m(filepath_or_buffer, kwds)\u001b[0m\n\u001b[1;32m    608\u001b[0m     \u001b[38;5;28;01mreturn\u001b[39;00m parser\n\u001b[1;32m    610\u001b[0m \u001b[38;5;28;01mwith\u001b[39;00m parser:\n\u001b[0;32m--> 611\u001b[0m     \u001b[38;5;28;01mreturn\u001b[39;00m \u001b[43mparser\u001b[49m\u001b[38;5;241;43m.\u001b[39;49m\u001b[43mread\u001b[49m\u001b[43m(\u001b[49m\u001b[43mnrows\u001b[49m\u001b[43m)\u001b[49m\n",
      "File \u001b[0;32m/mnt/c/Users/user/Documents/PhD Study/binding-mechanism-extend/venv/lib/python3.8/site-packages/pandas/io/parsers/readers.py:1778\u001b[0m, in \u001b[0;36mTextFileReader.read\u001b[0;34m(self, nrows)\u001b[0m\n\u001b[1;32m   1771\u001b[0m nrows \u001b[38;5;241m=\u001b[39m validate_integer(\u001b[38;5;124m\"\u001b[39m\u001b[38;5;124mnrows\u001b[39m\u001b[38;5;124m\"\u001b[39m, nrows)\n\u001b[1;32m   1772\u001b[0m \u001b[38;5;28;01mtry\u001b[39;00m:\n\u001b[1;32m   1773\u001b[0m     \u001b[38;5;66;03m# error: \"ParserBase\" has no attribute \"read\"\u001b[39;00m\n\u001b[1;32m   1774\u001b[0m     (\n\u001b[1;32m   1775\u001b[0m         index,\n\u001b[1;32m   1776\u001b[0m         columns,\n\u001b[1;32m   1777\u001b[0m         col_dict,\n\u001b[0;32m-> 1778\u001b[0m     ) \u001b[38;5;241m=\u001b[39m \u001b[38;5;28;43mself\u001b[39;49m\u001b[38;5;241;43m.\u001b[39;49m\u001b[43m_engine\u001b[49m\u001b[38;5;241;43m.\u001b[39;49m\u001b[43mread\u001b[49m\u001b[43m(\u001b[49m\u001b[43m  \u001b[49m\u001b[38;5;66;43;03m# type: ignore[attr-defined]\u001b[39;49;00m\n\u001b[1;32m   1779\u001b[0m \u001b[43m        \u001b[49m\u001b[43mnrows\u001b[49m\n\u001b[1;32m   1780\u001b[0m \u001b[43m    \u001b[49m\u001b[43m)\u001b[49m\n\u001b[1;32m   1781\u001b[0m \u001b[38;5;28;01mexcept\u001b[39;00m \u001b[38;5;167;01mException\u001b[39;00m:\n\u001b[1;32m   1782\u001b[0m     \u001b[38;5;28mself\u001b[39m\u001b[38;5;241m.\u001b[39mclose()\n",
      "File \u001b[0;32m/mnt/c/Users/user/Documents/PhD Study/binding-mechanism-extend/venv/lib/python3.8/site-packages/pandas/io/parsers/c_parser_wrapper.py:230\u001b[0m, in \u001b[0;36mCParserWrapper.read\u001b[0;34m(self, nrows)\u001b[0m\n\u001b[1;32m    228\u001b[0m \u001b[38;5;28;01mtry\u001b[39;00m:\n\u001b[1;32m    229\u001b[0m     \u001b[38;5;28;01mif\u001b[39;00m \u001b[38;5;28mself\u001b[39m\u001b[38;5;241m.\u001b[39mlow_memory:\n\u001b[0;32m--> 230\u001b[0m         chunks \u001b[38;5;241m=\u001b[39m \u001b[38;5;28;43mself\u001b[39;49m\u001b[38;5;241;43m.\u001b[39;49m\u001b[43m_reader\u001b[49m\u001b[38;5;241;43m.\u001b[39;49m\u001b[43mread_low_memory\u001b[49m\u001b[43m(\u001b[49m\u001b[43mnrows\u001b[49m\u001b[43m)\u001b[49m\n\u001b[1;32m    231\u001b[0m         \u001b[38;5;66;03m# destructive to chunks\u001b[39;00m\n\u001b[1;32m    232\u001b[0m         data \u001b[38;5;241m=\u001b[39m _concatenate_chunks(chunks)\n",
      "File \u001b[0;32m/mnt/c/Users/user/Documents/PhD Study/binding-mechanism-extend/venv/lib/python3.8/site-packages/pandas/_libs/parsers.pyx:808\u001b[0m, in \u001b[0;36mpandas._libs.parsers.TextReader.read_low_memory\u001b[0;34m()\u001b[0m\n",
      "File \u001b[0;32m/mnt/c/Users/user/Documents/PhD Study/binding-mechanism-extend/venv/lib/python3.8/site-packages/pandas/_libs/parsers.pyx:866\u001b[0m, in \u001b[0;36mpandas._libs.parsers.TextReader._read_rows\u001b[0;34m()\u001b[0m\n",
      "File \u001b[0;32m/mnt/c/Users/user/Documents/PhD Study/binding-mechanism-extend/venv/lib/python3.8/site-packages/pandas/_libs/parsers.pyx:852\u001b[0m, in \u001b[0;36mpandas._libs.parsers.TextReader._tokenize_rows\u001b[0;34m()\u001b[0m\n",
      "File \u001b[0;32m/mnt/c/Users/user/Documents/PhD Study/binding-mechanism-extend/venv/lib/python3.8/site-packages/pandas/_libs/parsers.pyx:1973\u001b[0m, in \u001b[0;36mpandas._libs.parsers.raise_parser_error\u001b[0;34m()\u001b[0m\n",
      "\u001b[0;31mParserError\u001b[0m: Error tokenizing data. C error: Calling read(nbytes) on source failed. Try engine='python'."
     ]
    }
   ],
   "source": [
    "dataset = modelling.DatasetLibrary()\n",
    "\n",
    "drug_list = dataset.drug_list\n",
    "protocol_list = dataset.protocol_list\n",
    "\n",
    "protocol_title = {\"CIPA\": \"CiPA protocol\", \"Pharm\": \"Roche's protocol\"}\n",
    "\n",
    "count = 0\n",
    "colors = ['blue', 'orange', 'green']\n",
    "for drug_count, drug in enumerate(drug_list):\n",
    "    protocol_count = 0\n",
    "    for protocol in protocol_list:\n",
    "        cell_list = dataset.exp_data_list(protocol, drug)\n",
    "        cell_list = cell_list.sort_values('drug_concentration')\n",
    "        detail_list = dataset.detail_read(protocol, drug)\n",
    "        if detail_list.index[0] == \"Well ID\":\n",
    "            detail_list = detail_list.rename(index={\"Well ID\": \"Parameter\"})\n",
    "\n",
    "        drug_concs_list = cell_list[\"drug_concentration\"].values\n",
    "        unique_drug_concs = pd.unique(drug_concs_list)\n",
    "        cell_counts = pd.Series(drug_concs_list).value_counts()\n",
    "        max_cell_per_conc = max(cell_counts.values)\n",
    "\n",
    "#         # Set up structure of the figure\n",
    "#         gridspec = (len(unique_drug_concs), max_cell_per_conc)\n",
    "#         fig = modelling.figures.FigureStructure(\n",
    "#             figsize=(2 * max_cell_per_conc, 2 * len(unique_drug_concs)),\n",
    "#             gridspec=gridspec, hspace=0.2, wspace=0.25,\n",
    "#             height_ratios=[1] * len(unique_drug_concs), plot_in_subgrid=True)\n",
    "#         plot = modelling.figures.FigurePlot()\n",
    "\n",
    "#         axs = [[fig.fig.add_subplot(fig.gs[i, j]) for j in\n",
    "#                 range(cell_counts[unique_drug_concs[i]])] for i in\n",
    "#                range(len(unique_drug_concs))]\n",
    "        fig = make_subplots(rows=len(unique_drug_concs), cols=max(cell_counts))\n",
    "        \n",
    "        cell_count = 0\n",
    "        y_lb, y_ub = 0, 0.5\n",
    "        x_lb, x_ub = 10, 0\n",
    "\n",
    "        for cell in cell_list['cells'].values:\n",
    "            cell_file_path = cell_list.loc[cell_list[\"cells\"] == cell][\n",
    "                \"file_path\"].values[0]\n",
    "            drug_conc = cell_list.loc[cell_list[\"cells\"] == cell][\n",
    "                \"drug_concentration\"].values[0]\n",
    "            data = dataset.exp_data_read(cell_file_path)\n",
    "\n",
    "            # get drug concentration info\n",
    "            test = detail_list.loc[[\"Parameter\", cell], :]\n",
    "            detail = test.T.reset_index().rename(columns={\"index\": \"Sweep\"})\n",
    "\n",
    "            for i in range(len(detail.index)):\n",
    "                sweep_string = detail.loc[i, \"Sweep\"]\n",
    "                if len(sweep_string) == 9:\n",
    "                    detail.loc[i, \"Sweep\"] = int(sweep_string[-3:])\n",
    "                else:\n",
    "                    detail.loc[i, \"Sweep\"] = int(sweep_string[-5:-2])\n",
    "\n",
    "            detail = detail.rename(columns={cell: \"values\",\n",
    "                                            \"Parameter\": cell})\n",
    "            detail = detail.pivot(index='Sweep', columns=cell,\n",
    "                                  values='values')\n",
    "\n",
    "            compound_names = detail[\"Compound Name\"].values.ravel()\n",
    "            compound_names = pd.unique(compound_names)\n",
    "\n",
    "            time = data[\"Sample Time (us)\"] / 1000\n",
    "            drug_conc_index = np.where(unique_drug_concs == drug_conc)[0][0]\n",
    "            cell_num_index = np.count_nonzero(\n",
    "                drug_concs_list[:cell_count] == drug_conc)\n",
    "\n",
    "            compound_count = 0\n",
    "            pulse_count = 0\n",
    "            previous_compound = detail.loc[1, \"Compound Name\"]\n",
    "            total_pulses = data.shape[1] - 4\n",
    "            compound_change = []\n",
    "            \n",
    "            print(drug_conc_index + 1, cell_num_index + 1)\n",
    "            \n",
    "            for sweep in range(total_pulses):\n",
    "                signal = data.iloc[:, sweep + 3]\n",
    "                compound = detail.loc[sweep + 1, \"Compound Name\"]\n",
    "                if compound == previous_compound:\n",
    "#                     if pulse_count >= 10:\n",
    "                        \n",
    "#                         fig.add_trace(\n",
    "#                             go.Scatter(\n",
    "#                                 x=time,\n",
    "#                                 y=signal / 1e-9,\n",
    "#                                 mode='lines',\n",
    "#                                 name=dataset.compound_function[\n",
    "#                                     compound_names[compound_count]],\n",
    "#                                 ), row=drug_conc_index + 1, col=cell_num_index + 1)\n",
    "#                         axs[drug_conc_index][cell_num_index].plot(\n",
    "#                             time, signal / 1e-9, color=colors[compound_count],\n",
    "#                             label=dataset.compound_function[\n",
    "#                                 compound_names[compound_count]],\n",
    "#                             alpha=0.5, zorder=-1)\n",
    "                    previous_compound = compound\n",
    "                    pulse_count += 1\n",
    "                elif compound != previous_compound:\n",
    "                    pulse_count = 1\n",
    "                    previous_compound = compound\n",
    "                    compound_change.append(sweep + 1)\n",
    "                    compound_count += 1\n",
    "\n",
    "#             y_bottom, y_top = axs[drug_conc_index][cell_num_index].get_ylim()\n",
    "#             if y_bottom < y_lb:\n",
    "#                 y_lb = y_bottom\n",
    "#             if y_top > y_ub:\n",
    "#                 y_ub = y_top\n",
    "#             x_left, x_right = axs[drug_conc_index][cell_num_index].get_xlim()\n",
    "#             if x_left < x_lb:\n",
    "#                 x_lb = x_left\n",
    "#             if x_right > x_ub:\n",
    "#                 x_ub = x_right\n",
    "#             cell_count += 1\n",
    "\n",
    "#             # QC to choose data with experimental constants within threshold\n",
    "#             trace_qc = modelling.QualityControl()\n",
    "#             Rseal = [float(i) for i in detail.loc[:, 'Seal Resistance'].values]\n",
    "#             Rseries = [float(i) for i in\n",
    "#                        detail.loc[:, 'Series Resistance'].values]\n",
    "#             Cm = [float(i) for i in detail.loc[:, 'Capacitance'].values]\n",
    "#             QC_constants = trace_qc.qc_general(Rseal, Cm, Rseries)\n",
    "#             if not QC_constants[0]:\n",
    "#                 rect = patches.Rectangle((x_lb + 0.07 * np.abs(x_lb),\n",
    "#                                           y_lb + 0.07 * np.abs(y_lb)),\n",
    "#                                          0.98 * (x_ub - x_lb),\n",
    "#                                          0.98 * (y_ub - y_lb), linewidth=2,\n",
    "#                                          edgecolor='r', facecolor='none')\n",
    "#                 axs[drug_conc_index][cell_num_index].add_patch(rect)\n",
    "#             if not QC_constants[1]:\n",
    "#                 axs[drug_conc_index][cell_num_index].patch.set_edgecolor('blue')\n",
    "#                 axs[drug_conc_index][cell_num_index].patch.set_linewidth(4)\n",
    "#             if not QC_constants[2]:\n",
    "#                 axs[drug_conc_index][cell_num_index].patch.set_edgecolor('C1')\n",
    "#                 axs[drug_conc_index][cell_num_index].patch.set_linewidth(4)\n",
    "\n",
    "#             # QC to make sure the traces are stable at the end of the block\n",
    "#             text_pos = 0\n",
    "#             for sweep in compound_change:\n",
    "#                 valid_trace_ind = 1\n",
    "#                 chosen_trace = []\n",
    "#                 nan_trace = 2\n",
    "#                 while nan_trace > 0:\n",
    "#                     temp_trace = data.iloc[:, sweep + 3 - valid_trace_ind]\n",
    "#                     if not any(np.isnan(np.array(temp_trace))):\n",
    "#                         chosen_trace.append(temp_trace)\n",
    "#                         nan_trace -= 1\n",
    "#                     valid_trace_ind += 1\n",
    "#                 trace1 = chosen_trace[0] / 1e-9\n",
    "#                 trace2 = chosen_trace[1] / 1e-9\n",
    "#                 compound = detail.loc[sweep + 1 - 1, \"Compound Name\"]\n",
    "#                 QC_stable = trace_qc.qc_stable(trace1, trace2)\n",
    "#                 if not QC_stable:\n",
    "#                     axs[drug_conc_index][cell_num_index].text(\n",
    "#                         (x_ub - x_lb) * 0.3, 0.7 * y_ub - text_pos * 0.25,\n",
    "#                         dataset.compound_function[compound],\n",
    "#                         fontsize=6, ha='left', va='top', color='red')\n",
    "#                     text_pos += 1\n",
    "\n",
    "#         unique_label = fig.legend_without_duplicate_labels(axs[0][0])\n",
    "#         axs[0][0].legend(*zip(*unique_label), handlelength=1, loc='upper left')\n",
    "#         for i in range(len(unique_drug_concs)):\n",
    "#             for j in range(cell_counts[unique_drug_concs[i]]):\n",
    "#                 axs[i][j].set_ylim(y_lb, y_ub)\n",
    "#                 axs[i][j].set_rasterization_zorder(0)\n",
    "\n",
    "#                 # Share x-axis with first column\n",
    "#                 if j != 0:\n",
    "#                     axs[i][j].sharex(axs[i][0])\n",
    "#                     axs[i][j].sharey(axs[i][0])\n",
    "\n",
    "#                 # Label x-axis at the last row\n",
    "#                 if i != len(unique_drug_concs) - 1:\n",
    "#                     axs[i][j].tick_params(labelbottom=False)\n",
    "#                 else:\n",
    "#                     axs[i][j].set_xlabel('Time (ms)')\n",
    "\n",
    "#                 # Label y-axis at the first column\n",
    "#                 if j != 0:\n",
    "#                     axs[i][j].tick_params(labelleft=False)\n",
    "#                 else:\n",
    "#                     axs[i][j].set_ylabel('Current (nA)')\n",
    "\n",
    "#             title_str_num = \"{0:.0e}\".format(unique_drug_concs[i] / 1e-6)\n",
    "#             base, power = title_str_num.split(\"e\")\n",
    "#             power = int(power)\n",
    "#             if i == 0:\n",
    "#                 axs[i][1].text(\n",
    "#                     10, 0.95 * y_ub,\n",
    "#                     base + r\"$\\times 10^{{{:d}}} \\mu$\".format(power) + 'M',\n",
    "#                     fontsize=8, ha='left', va='top')\n",
    "#             else:\n",
    "#                 axs[i][0].text(\n",
    "#                     10, 0.95 * y_ub,\n",
    "#                     base + r\"$\\times 10^{{{:d}}} \\mu$\".format(power) + 'M',\n",
    "#                     fontsize=8, ha='left', va='top')\n",
    "\n",
    "#         # get stimulus\n",
    "#         stimulus = data[\"Stimulus\"] * 1000\n",
    "#         free_panel_row = min([i for i in range(len(unique_drug_concs)) if\n",
    "#                               cell_counts[unique_drug_concs[i]] <\n",
    "#                               max_cell_per_conc])\n",
    "#         free_panel_col = cell_counts[unique_drug_concs[free_panel_row]]\n",
    "#         protocol_axs = fig.fig.add_subplot(\n",
    "#             fig.gs[free_panel_row, free_panel_col])\n",
    "#         protocol_axs.plot(time, stimulus, 'k')\n",
    "\n",
    "#         protocol_axs.yaxis.tick_right()\n",
    "#         protocol_axs.yaxis.set_label_position('right')\n",
    "#         protocol_axs.set_ylabel('Voltage (mV)')\n",
    "#         protocol_axs.sharex(axs[0][0])\n",
    "#         protocol_axs.tick_params(labelbottom=False, labelleft=False)\n",
    "#         protocol_axs.spines['top'].set_visible(False)\n",
    "#         protocol_axs.spines['left'].set_visible(False)\n",
    "\n",
    "#         filename = protocol + \"_\" + drug + \".pdf\"\n",
    "#         fig.savefig(\"../figures/experimental_data/\" + filename)\n",
    "#         fig.show()"
   ]
  },
  {
   "cell_type": "code",
   "execution_count": null,
   "id": "b4f6c68d",
   "metadata": {},
   "outputs": [],
   "source": [
    "\n",
    "        "
   ]
  }
 ],
 "metadata": {
  "kernelspec": {
   "display_name": "Python 3 (ipykernel)",
   "language": "python",
   "name": "python3"
  },
  "language_info": {
   "codemirror_mode": {
    "name": "ipython",
    "version": 3
   },
   "file_extension": ".py",
   "mimetype": "text/x-python",
   "name": "python",
   "nbconvert_exporter": "python",
   "pygments_lexer": "ipython3",
   "version": "3.8.5"
  },
  "widgets": {
   "application/vnd.jupyter.widget-state+json": {
    "state": {},
    "version_major": 2,
    "version_minor": 0
   }
  }
 },
 "nbformat": 4,
 "nbformat_minor": 5
}
